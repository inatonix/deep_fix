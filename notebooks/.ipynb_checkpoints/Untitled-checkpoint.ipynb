{
 "cells": [
  {
   "cell_type": "code",
   "execution_count": 4,
   "metadata": {},
   "outputs": [
    {
     "data": {
      "text/plain": [
       "<sqlite3.Cursor at 0x10e115ce0>"
      ]
     },
     "execution_count": 4,
     "metadata": {},
     "output_type": "execute_result"
    }
   ],
   "source": [
    "import sqlite3\n",
    "# sqlite3のDBに接続してSQL文実行\n",
    "conn_sql = sqlite3.connect(\"../dataset/input.db\")\n",
    "cursor  = conn_sql.cursor()\n",
    "cursor.execute(\"select * from Code limit 5\")"
   ]
  },
  {
   "cell_type": "code",
   "execution_count": 5,
   "metadata": {},
   "outputs": [
    {
     "name": "stdout",
     "output_type": "stream",
     "text": [
      "[('prog04676', 'user449', 'prob163', '#include <stdio.h>\\n#include <stdlib.h>\\nint main() {\\n\\tint i,siz1,siz2;\\n\\tscanf(\"%d\",siz1);\\n\\tscanf(\"%d\",siz2);\\n\\tchar ch1[siz1];\\n\\tchar ch2[siz2];\\n\\tfor(i=0;i<siz1;i++)\\n\\tch1[i]= getchar();\\n\\tfor(i=0;i<siz1;i++)\\n\\tputchar(ch1[i]);\\n\\treturn 0;\\n}', '', 0), ('prog56848', 'user453', 'prob236', '#include <stdio.h>\\nint main(){\\n    int n,i,book[99],order[99];\\n    scanf(\"%d\",&n);//initialising arrays\\n    for(i=0;i<n;i++)\\n     scanf(\"%d\",&book[i]);\\n    for(i=0;i<n;i++)\\n     scanf(\"%d\",&order[i]);\\n    for(i=0;i<n;i++)//loop for rearranging\\n     {\\n       int j=order[i];\\n       int c=book[j];\\n       book[j]=book[i];\\n       book[i]=c;\\n       printf(\"%d\",book[i]);\\n     }\\n    for(i=0;i<n;i++)\\n     printf(\"%d \",book[i]);\\n    printf(\"end\"); //do not modify this\\n    return 0;\\n}', '', 0), ('prog23894', 'user288', 'prob117', '#include <stdio.h>\\n#include <stdlib.h>\\n#include <math.h>\\nvoid transfer(int n,char from,char to,char temp){\\n   int count=0;\\n   if(n>0){\\n        transfer(n-1,from,temp,to);\\n        transfer(n-1,temp,to,from);\\n    }count++;\\n    return count;\\n}\\nint main(){\\n    int n;\\n    scanf(\"%d\",&n);\\n    transfer(n,\\'l\\',\\'r\\',\\'c\\');\\n        return 0;\\n}', '', 0), ('prog44416', 'user721', 'prob277', '#include <stdio.h>\\n#include <stdlib.h>\\nint main() {\\n\\t        int i,j,n;\\n\\t        int k=0;\\n\\t        scanf(\"%d\",&n);\\n\\t        for (i=n;i>=1;i=i-2){\\n\\t            while (k>=1){\\n\\t                printf(\" 123\");\\n\\t                k++;\\n\\t            }\\n\\t            for (j=i;j>=1;j--){\\n\\t                printf(\"*\");\\n\\t            }\\n\\t            printf(\"\\\\n\");\\n\\t        }\\n\\treturn 0;\\n}', '', 0), ('prog25549', 'user289', 'prob34', '#include <stdio.h>\\n#include <stdlib.h>\\nint main() {\\n    int i,n,j;\\n    scanf(\"%d\\\\n\",&n);\\n    int a[20];\\n    for(i=0;i<n;i++)\\n{    scanf(\"%d\\\\n\",&a[i]);}\\n    for(j=0;j<n;j++)\\n{   if((a[j]>a[j+1])&&(a[j]>a[j-2]))    \\n     {printf(\"Yes\\\\n\");}\\n    else\\n    if(a[j]==a[j+1])\\n    {break;}\\n    else\\n    {printf(\"No\\\\n\");}}\\n\\treturn 0;\\n}', '', 0)]\n"
     ]
    }
   ],
   "source": [
    "results = cursor.fetchall()\n",
    "print(results)"
   ]
  },
  {
   "cell_type": "code",
   "execution_count": null,
   "metadata": {},
   "outputs": [],
   "source": []
  }
 ],
 "metadata": {
  "kernelspec": {
   "display_name": "Python 3",
   "language": "python",
   "name": "python3"
  },
  "language_info": {
   "codemirror_mode": {
    "name": "ipython",
    "version": 3
   },
   "file_extension": ".py",
   "mimetype": "text/x-python",
   "name": "python",
   "nbconvert_exporter": "python",
   "pygments_lexer": "ipython3",
   "version": "3.6.1"
  }
 },
 "nbformat": 4,
 "nbformat_minor": 2
}
